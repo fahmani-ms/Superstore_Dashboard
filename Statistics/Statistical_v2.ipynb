{
 "cells": [
  {
   "cell_type": "code",
   "execution_count": 13,
   "metadata": {},
   "outputs": [],
   "source": [
    "import numpy as np\n",
    "import pandas as pd\n",
    "import matplotlib.pyplot as plt\n",
    "import mysql.connector\n",
    "from scipy import stats\n",
    "import mysql.connector\n",
    "import seaborn as sns"
   ]
  },
  {
   "cell_type": "code",
   "execution_count": 14,
   "metadata": {},
   "outputs": [],
   "source": [
    "username = 'root'\n",
    "user_password = 'Sadegh74'\n",
    "db_name = 'superstore'"
   ]
  },
  {
   "cell_type": "code",
   "execution_count": 15,
   "metadata": {},
   "outputs": [],
   "source": [
    "cnx = mysql.connector.connect(\n",
    "    user=username,\n",
    "    password=user_password,\n",
    "    host='localhost',\n",
    "    database=db_name\n",
    ")"
   ]
  },
  {
   "cell_type": "code",
   "execution_count": 16,
   "metadata": {},
   "outputs": [
    {
     "data": {
      "text/html": [
       "<div>\n",
       "<style scoped>\n",
       "    .dataframe tbody tr th:only-of-type {\n",
       "        vertical-align: middle;\n",
       "    }\n",
       "\n",
       "    .dataframe tbody tr th {\n",
       "        vertical-align: top;\n",
       "    }\n",
       "\n",
       "    .dataframe thead th {\n",
       "        text-align: right;\n",
       "    }\n",
       "</style>\n",
       "<table border=\"1\" class=\"dataframe\">\n",
       "  <thead>\n",
       "    <tr style=\"text-align: right;\">\n",
       "      <th></th>\n",
       "      <th>Row ID</th>\n",
       "      <th>Order ID</th>\n",
       "      <th>Product ID</th>\n",
       "      <th>Sales</th>\n",
       "      <th>Quantity</th>\n",
       "      <th>Discount</th>\n",
       "      <th>Profit</th>\n",
       "      <th>Shipping Cost</th>\n",
       "      <th>Product Name</th>\n",
       "    </tr>\n",
       "  </thead>\n",
       "  <tbody>\n",
       "    <tr>\n",
       "      <th>0</th>\n",
       "      <td>1</td>\n",
       "      <td>MX-2014-143658</td>\n",
       "      <td>OFF-LA-10002782</td>\n",
       "      <td>13.08</td>\n",
       "      <td>3</td>\n",
       "      <td>0.0</td>\n",
       "      <td>4.56</td>\n",
       "      <td>1.033</td>\n",
       "      <td>Hon File Folder Labels, Adjustable</td>\n",
       "    </tr>\n",
       "    <tr>\n",
       "      <th>1</th>\n",
       "      <td>2</td>\n",
       "      <td>MX-2012-155047</td>\n",
       "      <td>FUR-FU-10004015</td>\n",
       "      <td>252.16</td>\n",
       "      <td>8</td>\n",
       "      <td>0.0</td>\n",
       "      <td>90.72</td>\n",
       "      <td>13.449</td>\n",
       "      <td>Tenex Clock, Durable</td>\n",
       "    </tr>\n",
       "    <tr>\n",
       "      <th>2</th>\n",
       "      <td>3</td>\n",
       "      <td>MX-2012-155047</td>\n",
       "      <td>FUR-BO-10002352</td>\n",
       "      <td>193.28</td>\n",
       "      <td>2</td>\n",
       "      <td>0.0</td>\n",
       "      <td>54.08</td>\n",
       "      <td>9.627</td>\n",
       "      <td>Ikea 3-Shelf Cabinet, Mobile</td>\n",
       "    </tr>\n",
       "    <tr>\n",
       "      <th>3</th>\n",
       "      <td>4</td>\n",
       "      <td>MX-2012-155047</td>\n",
       "      <td>OFF-BI-10004428</td>\n",
       "      <td>35.44</td>\n",
       "      <td>4</td>\n",
       "      <td>0.0</td>\n",
       "      <td>4.96</td>\n",
       "      <td>1.371</td>\n",
       "      <td>Cardinal Binder, Clear</td>\n",
       "    </tr>\n",
       "    <tr>\n",
       "      <th>4</th>\n",
       "      <td>5</td>\n",
       "      <td>MX-2012-155047</td>\n",
       "      <td>OFF-AR-10004594</td>\n",
       "      <td>71.60</td>\n",
       "      <td>2</td>\n",
       "      <td>0.0</td>\n",
       "      <td>11.44</td>\n",
       "      <td>3.787</td>\n",
       "      <td>Sanford Canvas, Water Color</td>\n",
       "    </tr>\n",
       "  </tbody>\n",
       "</table>\n",
       "</div>"
      ],
      "text/plain": [
       "   Row ID        Order ID       Product ID   Sales  Quantity  Discount  \\\n",
       "0       1  MX-2014-143658  OFF-LA-10002782   13.08         3       0.0   \n",
       "1       2  MX-2012-155047  FUR-FU-10004015  252.16         8       0.0   \n",
       "2       3  MX-2012-155047  FUR-BO-10002352  193.28         2       0.0   \n",
       "3       4  MX-2012-155047  OFF-BI-10004428   35.44         4       0.0   \n",
       "4       5  MX-2012-155047  OFF-AR-10004594   71.60         2       0.0   \n",
       "\n",
       "   Profit  Shipping Cost                        Product Name  \n",
       "0    4.56          1.033  Hon File Folder Labels, Adjustable  \n",
       "1   90.72         13.449                Tenex Clock, Durable  \n",
       "2   54.08          9.627        Ikea 3-Shelf Cabinet, Mobile  \n",
       "3    4.96          1.371              Cardinal Binder, Clear  \n",
       "4   11.44          3.787         Sanford Canvas, Water Color  "
      ]
     },
     "execution_count": 16,
     "metadata": {},
     "output_type": "execute_result"
    }
   ],
   "source": [
    "query = \"SELECT order_detail.*, p.`Product Name` FROM order_detail LEFT JOIN product p on order_detail.`Product ID` = p.`Product ID`;\"\n",
    "df = pd.read_sql(query, con=cnx)\n",
    "df.head()"
   ]
  },
  {
   "cell_type": "code",
   "execution_count": 17,
   "metadata": {},
   "outputs": [],
   "source": [
    "w_dis = df[df['Discount'] != 0]\n",
    "wo_dis = df[df['Discount'] == 0]"
   ]
  },
  {
   "cell_type": "code",
   "execution_count": 18,
   "metadata": {},
   "outputs": [
    {
     "data": {
      "text/html": [
       "<div>\n",
       "<style scoped>\n",
       "    .dataframe tbody tr th:only-of-type {\n",
       "        vertical-align: middle;\n",
       "    }\n",
       "\n",
       "    .dataframe tbody tr th {\n",
       "        vertical-align: top;\n",
       "    }\n",
       "\n",
       "    .dataframe thead th {\n",
       "        text-align: right;\n",
       "    }\n",
       "</style>\n",
       "<table border=\"1\" class=\"dataframe\">\n",
       "  <thead>\n",
       "    <tr style=\"text-align: right;\">\n",
       "      <th></th>\n",
       "      <th>Product ID</th>\n",
       "      <th>Product Name</th>\n",
       "      <th>with_discount</th>\n",
       "      <th>without_discount</th>\n",
       "      <th>dif</th>\n",
       "    </tr>\n",
       "  </thead>\n",
       "  <tbody>\n",
       "    <tr>\n",
       "      <th>0</th>\n",
       "      <td>FUR-ADV-10000183</td>\n",
       "      <td>Advantus Photo Frame, Black</td>\n",
       "      <td>20</td>\n",
       "      <td>11</td>\n",
       "      <td>9</td>\n",
       "    </tr>\n",
       "    <tr>\n",
       "      <th>1</th>\n",
       "      <td>FUR-ADV-10000188</td>\n",
       "      <td>Advantus Stacking Tray, Erganomic</td>\n",
       "      <td>3</td>\n",
       "      <td>4</td>\n",
       "      <td>-1</td>\n",
       "    </tr>\n",
       "    <tr>\n",
       "      <th>2</th>\n",
       "      <td>FUR-ADV-10001283</td>\n",
       "      <td>Advantus Frame, Black</td>\n",
       "      <td>2</td>\n",
       "      <td>1</td>\n",
       "      <td>1</td>\n",
       "    </tr>\n",
       "    <tr>\n",
       "      <th>3</th>\n",
       "      <td>FUR-ADV-10001659</td>\n",
       "      <td>Advantus Light Bulb, Durable</td>\n",
       "      <td>2</td>\n",
       "      <td>8</td>\n",
       "      <td>-6</td>\n",
       "    </tr>\n",
       "    <tr>\n",
       "      <th>4</th>\n",
       "      <td>FUR-ADV-10001855</td>\n",
       "      <td>Advantus Stacking Tray, Durable</td>\n",
       "      <td>1</td>\n",
       "      <td>3</td>\n",
       "      <td>-2</td>\n",
       "    </tr>\n",
       "    <tr>\n",
       "      <th>...</th>\n",
       "      <td>...</td>\n",
       "      <td>...</td>\n",
       "      <td>...</td>\n",
       "      <td>...</td>\n",
       "      <td>...</td>\n",
       "    </tr>\n",
       "    <tr>\n",
       "      <th>6533</th>\n",
       "      <td>TEC-STA-10003447</td>\n",
       "      <td>StarTech Printer, White</td>\n",
       "      <td>1</td>\n",
       "      <td>7</td>\n",
       "      <td>-6</td>\n",
       "    </tr>\n",
       "    <tr>\n",
       "      <th>6534</th>\n",
       "      <td>TEC-STA-10003550</td>\n",
       "      <td>StarTech Card Printer, Red</td>\n",
       "      <td>1</td>\n",
       "      <td>13</td>\n",
       "      <td>-12</td>\n",
       "    </tr>\n",
       "    <tr>\n",
       "      <th>6535</th>\n",
       "      <td>TEC-STA-10003925</td>\n",
       "      <td>StarTech Card Printer, Durable</td>\n",
       "      <td>2</td>\n",
       "      <td>6</td>\n",
       "      <td>-4</td>\n",
       "    </tr>\n",
       "    <tr>\n",
       "      <th>6536</th>\n",
       "      <td>TEC-STA-10004181</td>\n",
       "      <td>StarTech Inkjet, Durable</td>\n",
       "      <td>1</td>\n",
       "      <td>10</td>\n",
       "      <td>-9</td>\n",
       "    </tr>\n",
       "    <tr>\n",
       "      <th>6537</th>\n",
       "      <td>TEC-STA-10004542</td>\n",
       "      <td>StarTech Calculator, Durable</td>\n",
       "      <td>1</td>\n",
       "      <td>22</td>\n",
       "      <td>-21</td>\n",
       "    </tr>\n",
       "  </tbody>\n",
       "</table>\n",
       "<p>6538 rows × 5 columns</p>\n",
       "</div>"
      ],
      "text/plain": [
       "            Product ID                       Product Name  with_discount  \\\n",
       "0     FUR-ADV-10000183        Advantus Photo Frame, Black             20   \n",
       "1     FUR-ADV-10000188  Advantus Stacking Tray, Erganomic              3   \n",
       "2     FUR-ADV-10001283              Advantus Frame, Black              2   \n",
       "3     FUR-ADV-10001659       Advantus Light Bulb, Durable              2   \n",
       "4     FUR-ADV-10001855    Advantus Stacking Tray, Durable              1   \n",
       "...                ...                                ...            ...   \n",
       "6533  TEC-STA-10003447            StarTech Printer, White              1   \n",
       "6534  TEC-STA-10003550         StarTech Card Printer, Red              1   \n",
       "6535  TEC-STA-10003925     StarTech Card Printer, Durable              2   \n",
       "6536  TEC-STA-10004181           StarTech Inkjet, Durable              1   \n",
       "6537  TEC-STA-10004542       StarTech Calculator, Durable              1   \n",
       "\n",
       "      without_discount  dif  \n",
       "0                   11    9  \n",
       "1                    4   -1  \n",
       "2                    1    1  \n",
       "3                    8   -6  \n",
       "4                    3   -2  \n",
       "...                ...  ...  \n",
       "6533                 7   -6  \n",
       "6534                13  -12  \n",
       "6535                 6   -4  \n",
       "6536                10   -9  \n",
       "6537                22  -21  \n",
       "\n",
       "[6538 rows x 5 columns]"
      ]
     },
     "execution_count": 18,
     "metadata": {},
     "output_type": "execute_result"
    }
   ],
   "source": [
    "w = w_dis.groupby(['Product ID', 'Product Name'])['Quantity'].sum().reset_index()\n",
    "wo = wo_dis.groupby(['Product ID', 'Product Name'])['Quantity'].sum().reset_index()\n",
    "col_name = ['Product ID', 'Product Name', 'Quantity']\n",
    "w.columns = col_name\n",
    "wo.columns = col_name\n",
    "wo = wo[wo['Product ID'].isin(w['Product ID'])].sort_values(by='Product ID')\n",
    "w = w[w['Product ID'].isin(wo['Product ID'])].sort_values(by='Product ID')\n",
    "Discount_df = pd.merge(w, wo, on=['Product ID', 'Product Name'], how='inner')\n",
    "col_name = ['Product ID', 'Product Name', 'with_discount', 'without_discount']\n",
    "Discount_df.columns = col_name\n",
    "Discount_df['dif'] = Discount_df['with_discount'] - Discount_df['without_discount']\n",
    "Discount_df"
   ]
  },
  {
   "cell_type": "code",
   "execution_count": 19,
   "metadata": {},
   "outputs": [
    {
     "data": {
      "image/png": "[encoded data removed]",
      "text/plain": [
       "<Figure size 640x480 with 1 Axes>"
      ]
     },
     "metadata": {},
     "output_type": "display_data"
    }
   ],
   "source": [
    "sns.histplot(Discount_df['dif'], bins=50, kde=True)\n",
    "plt.xlabel('Difference')\n",
    "plt.ylabel('Frequency')\n",
    "plt.title('Histogram of Difference Between Discount and Non-Discount')\n",
    "plt.xlim(xmin=-60, xmax=60)\n",
    "plt.savefig('Histogram.png')\n",
    "plt.show()"
   ]
  },
  {
   "cell_type": "code",
   "execution_count": 20,
   "metadata": {},
   "outputs": [
    {
     "data": {
      "image/png": "[encoded data removed]",
      "text/plain": [
       "<Figure size 640x480 with 1 Axes>"
      ]
     },
     "metadata": {},
     "output_type": "display_data"
    }
   ],
   "source": [
    "stats.probplot(Discount_df['dif'], dist=\"norm\", plot=plt)\n",
    "plt.title(\"Q-Q plot\")\n",
    "plt.show()"
   ]
  },
  {
   "cell_type": "code",
   "execution_count": 21,
   "metadata": {},
   "outputs": [
    {
     "name": "stdout",
     "output_type": "stream",
     "text": [
      "Reject the null hypothesis.\n"
     ]
    }
   ],
   "source": [
    "t_statistic, p_value = stats.ttest_1samp(Discount_df['dif'], 0)\n",
    "\n",
    "alpha = 0.05\n",
    "\n",
    "if p_value < alpha:\n",
    "    print(\"Reject the null hypothesis.\")\n",
    "else:\n",
    "    print(\"Fail to reject the null hypothesis.\")"
   ]
  },
  {
   "cell_type": "code",
   "execution_count": 22,
   "metadata": {},
   "outputs": [
    {
     "name": "stdout",
     "output_type": "stream",
     "text": [
      "Reject the null hypothesis.\n"
     ]
    }
   ],
   "source": [
    "w_statistic, p_value = stats.wilcoxon(Discount_df['dif'])\n",
    "alpha = 0.05\n",
    "\n",
    "if p_value < alpha:\n",
    "    print(\"Reject the null hypothesis.\")\n",
    "else:\n",
    "    print(\"Fail to reject the null hypothesis.\")"
   ]
  },
  {
   "cell_type": "code",
   "execution_count": 23,
   "metadata": {},
   "outputs": [
    {
     "data": {
      "text/html": [
       "<div>\n",
       "<style scoped>\n",
       "    .dataframe tbody tr th:only-of-type {\n",
       "        vertical-align: middle;\n",
       "    }\n",
       "\n",
       "    .dataframe tbody tr th {\n",
       "        vertical-align: top;\n",
       "    }\n",
       "\n",
       "    .dataframe thead th {\n",
       "        text-align: right;\n",
       "    }\n",
       "</style>\n",
       "<table border=\"1\" class=\"dataframe\">\n",
       "  <thead>\n",
       "    <tr style=\"text-align: right;\">\n",
       "      <th></th>\n",
       "      <th>No. Discounted Products</th>\n",
       "      <th>Hypothesis</th>\n",
       "      <th>t_statistic</th>\n",
       "      <th>p_value</th>\n",
       "      <th>Confidence Level</th>\n",
       "      <th>Result</th>\n",
       "    </tr>\n",
       "  </thead>\n",
       "  <tbody>\n",
       "    <tr>\n",
       "      <th>0</th>\n",
       "      <td>6538</td>\n",
       "      <td>The average quantity of discounted orders is s...</td>\n",
       "      <td>-12.574933</td>\n",
       "      <td>1.845384e-36</td>\n",
       "      <td>95.0</td>\n",
       "      <td>Discounts affect sales.</td>\n",
       "    </tr>\n",
       "  </tbody>\n",
       "</table>\n",
       "</div>"
      ],
      "text/plain": [
       "   No. Discounted Products                                         Hypothesis  \\\n",
       "0                     6538  The average quantity of discounted orders is s...   \n",
       "\n",
       "   t_statistic       p_value  Confidence Level                   Result  \n",
       "0   -12.574933  1.845384e-36              95.0  Discounts affect sales.  "
      ]
     },
     "execution_count": 23,
     "metadata": {},
     "output_type": "execute_result"
    }
   ],
   "source": [
    "Stats_Results = {}\n",
    "Stats_Results['No. Discounted Products'] = len(Discount_df)\n",
    "Stats_Results['Hypothesis'] = 'The average quantity of discounted orders is same to the average quantity of non-discounted orders.'\n",
    "Stats_Results['t_statistic'] = t_statistic\n",
    "Stats_Results['p_value'] = p_value\n",
    "Stats_Results['Confidence Level'] = (1- alpha)*100\n",
    "Stats_Results['Result'] = 'Discounts affect sales.' if p_value < alpha else 'The discount does not affect the sale.'\n",
    "Stats_Results = pd.DataFrame(Stats_Results, index=[0])\n",
    "Stats_Results"
   ]
  }
 ],
 "metadata": {
  "kernelspec": {
   "display_name": "quera",
   "language": "python",
   "name": "python3"
  },
  "language_info": {
   "codemirror_mode": {
    "name": "ipython",
    "version": 3
   },
   "file_extension": ".py",
   "mimetype": "text/x-python",
   "name": "python",
   "nbconvert_exporter": "python",
   "pygments_lexer": "ipython3",
   "version": "3.9.16"
  },
  "orig_nbformat": 4
 },
 "nbformat": 4,
 "nbformat_minor": 2
}
