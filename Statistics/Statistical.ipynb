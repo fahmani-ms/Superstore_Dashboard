{
 "cells": [
  {
   "cell_type": "code",
   "execution_count": 1,
   "metadata": {},
   "outputs": [],
   "source": [
    "import numpy as np\n",
    "import pandas as pd\n",
    "import matplotlib.pyplot as plt\n",
    "from pathlib import Path\n",
    "import mysql.connector\n",
    "import datetime\n",
    "import math\n",
    "from scipy import stats\n",
    "from scipy.stats import f_oneway\n",
    "from sklearn.preprocessing import MinMaxScaler\n",
    "import mysql.connector\n",
    "from scipy.stats import ttest_ind\n",
    "import csv"
   ]
  },
  {
   "cell_type": "code",
   "execution_count": 2,
   "metadata": {},
   "outputs": [],
   "source": [
    "username = 'root'\n",
    "user_password = 'Sadegh74'\n",
    "db_name = 'superstore'"
   ]
  },
  {
   "cell_type": "code",
   "execution_count": 3,
   "metadata": {},
   "outputs": [],
   "source": [
    "cnx = mysql.connector.connect(\n",
    "    user=username,\n",
    "    password=user_password,\n",
    "    host='localhost',\n",
    "    database=db_name\n",
    ")"
   ]
  },
  {
   "cell_type": "code",
   "execution_count": 4,
   "metadata": {},
   "outputs": [
    {
     "data": {
      "text/html": [
       "<div>\n",
       "<style scoped>\n",
       "    .dataframe tbody tr th:only-of-type {\n",
       "        vertical-align: middle;\n",
       "    }\n",
       "\n",
       "    .dataframe tbody tr th {\n",
       "        vertical-align: top;\n",
       "    }\n",
       "\n",
       "    .dataframe thead th {\n",
       "        text-align: right;\n",
       "    }\n",
       "</style>\n",
       "<table border=\"1\" class=\"dataframe\">\n",
       "  <thead>\n",
       "    <tr style=\"text-align: right;\">\n",
       "      <th></th>\n",
       "      <th>Row ID</th>\n",
       "      <th>Order ID</th>\n",
       "      <th>Product ID</th>\n",
       "      <th>Sales</th>\n",
       "      <th>Quantity</th>\n",
       "      <th>Discount</th>\n",
       "      <th>Profit</th>\n",
       "      <th>Shipping Cost</th>\n",
       "    </tr>\n",
       "  </thead>\n",
       "  <tbody>\n",
       "    <tr>\n",
       "      <th>0</th>\n",
       "      <td>1</td>\n",
       "      <td>MX-2014-143658</td>\n",
       "      <td>OFF-LA-10002782</td>\n",
       "      <td>13.08</td>\n",
       "      <td>3</td>\n",
       "      <td>0.0</td>\n",
       "      <td>4.56</td>\n",
       "      <td>1.033</td>\n",
       "    </tr>\n",
       "    <tr>\n",
       "      <th>1</th>\n",
       "      <td>2</td>\n",
       "      <td>MX-2012-155047</td>\n",
       "      <td>FUR-FU-10004015</td>\n",
       "      <td>252.16</td>\n",
       "      <td>8</td>\n",
       "      <td>0.0</td>\n",
       "      <td>90.72</td>\n",
       "      <td>13.449</td>\n",
       "    </tr>\n",
       "    <tr>\n",
       "      <th>2</th>\n",
       "      <td>3</td>\n",
       "      <td>MX-2012-155047</td>\n",
       "      <td>FUR-BO-10002352</td>\n",
       "      <td>193.28</td>\n",
       "      <td>2</td>\n",
       "      <td>0.0</td>\n",
       "      <td>54.08</td>\n",
       "      <td>9.627</td>\n",
       "    </tr>\n",
       "    <tr>\n",
       "      <th>3</th>\n",
       "      <td>4</td>\n",
       "      <td>MX-2012-155047</td>\n",
       "      <td>OFF-BI-10004428</td>\n",
       "      <td>35.44</td>\n",
       "      <td>4</td>\n",
       "      <td>0.0</td>\n",
       "      <td>4.96</td>\n",
       "      <td>1.371</td>\n",
       "    </tr>\n",
       "    <tr>\n",
       "      <th>4</th>\n",
       "      <td>5</td>\n",
       "      <td>MX-2012-155047</td>\n",
       "      <td>OFF-AR-10004594</td>\n",
       "      <td>71.60</td>\n",
       "      <td>2</td>\n",
       "      <td>0.0</td>\n",
       "      <td>11.44</td>\n",
       "      <td>3.787</td>\n",
       "    </tr>\n",
       "  </tbody>\n",
       "</table>\n",
       "</div>"
      ],
      "text/plain": [
       "   Row ID        Order ID       Product ID   Sales  Quantity  Discount  \\\n",
       "0       1  MX-2014-143658  OFF-LA-10002782   13.08         3       0.0   \n",
       "1       2  MX-2012-155047  FUR-FU-10004015  252.16         8       0.0   \n",
       "2       3  MX-2012-155047  FUR-BO-10002352  193.28         2       0.0   \n",
       "3       4  MX-2012-155047  OFF-BI-10004428   35.44         4       0.0   \n",
       "4       5  MX-2012-155047  OFF-AR-10004594   71.60         2       0.0   \n",
       "\n",
       "   Profit  Shipping Cost  \n",
       "0    4.56          1.033  \n",
       "1   90.72         13.449  \n",
       "2   54.08          9.627  \n",
       "3    4.96          1.371  \n",
       "4   11.44          3.787  "
      ]
     },
     "execution_count": 4,
     "metadata": {},
     "output_type": "execute_result"
    }
   ],
   "source": [
    "query = \"SELECT * FROM order_detail;\"\n",
    "df = pd.read_sql(query, con=cnx)\n",
    "df.head()"
   ]
  },
  {
   "cell_type": "code",
   "execution_count": 5,
   "metadata": {},
   "outputs": [],
   "source": [
    "w_dis = df[df['Discount'] != 0]\n",
    "wo_dis = df[df['Discount'] == 0]"
   ]
  },
  {
   "cell_type": "code",
   "execution_count": 6,
   "metadata": {},
   "outputs": [
    {
     "name": "stdout",
     "output_type": "stream",
     "text": [
      "Reject the null hypothesis.\n"
     ]
    }
   ],
   "source": [
    "t_statistic, p_value = stats.ttest_ind(w_dis['Quantity'], wo_dis['Quantity'])\n",
    "\n",
    "alpha = 0.05\n",
    "\n",
    "if p_value < alpha:\n",
    "    print(\"Reject the null hypothesis.\")\n",
    "else:\n",
    "    print(\"Fail to reject the null hypothesis.\")"
   ]
  },
  {
   "cell_type": "code",
   "execution_count": 7,
   "metadata": {},
   "outputs": [
    {
     "data": {
      "text/html": [
       "<div>\n",
       "<style scoped>\n",
       "    .dataframe tbody tr th:only-of-type {\n",
       "        vertical-align: middle;\n",
       "    }\n",
       "\n",
       "    .dataframe tbody tr th {\n",
       "        vertical-align: top;\n",
       "    }\n",
       "\n",
       "    .dataframe thead th {\n",
       "        text-align: right;\n",
       "    }\n",
       "</style>\n",
       "<table border=\"1\" class=\"dataframe\">\n",
       "  <thead>\n",
       "    <tr style=\"text-align: right;\">\n",
       "      <th></th>\n",
       "      <th>No. Discounted</th>\n",
       "      <th>No. Without Discount</th>\n",
       "      <th>hypothesis</th>\n",
       "      <th>t_statistic</th>\n",
       "      <th>p_value</th>\n",
       "      <th>alpha</th>\n",
       "      <th>result</th>\n",
       "    </tr>\n",
       "  </thead>\n",
       "  <tbody>\n",
       "    <tr>\n",
       "      <th>0</th>\n",
       "      <td>21567</td>\n",
       "      <td>28103</td>\n",
       "      <td>The average quantity of discounted orders is s...</td>\n",
       "      <td>8.392667</td>\n",
       "      <td>4.875845e-17</td>\n",
       "      <td>0.05</td>\n",
       "      <td>Reject the Hypothesis</td>\n",
       "    </tr>\n",
       "  </tbody>\n",
       "</table>\n",
       "</div>"
      ],
      "text/plain": [
       "   No. Discounted  No. Without Discount  \\\n",
       "0           21567                 28103   \n",
       "\n",
       "                                          hypothesis  t_statistic  \\\n",
       "0  The average quantity of discounted orders is s...     8.392667   \n",
       "\n",
       "        p_value  alpha                 result  \n",
       "0  4.875845e-17   0.05  Reject the Hypothesis  "
      ]
     },
     "execution_count": 7,
     "metadata": {},
     "output_type": "execute_result"
    }
   ],
   "source": [
    "output = {}\n",
    "output['No. Discounted'] = len(w_dis)\n",
    "output['No. Without Discount'] = len(wo_dis)\n",
    "output['hypothesis'] = 'The average quantity of discounted orders is same to the average quantity of non-discounted orders.'\n",
    "output['t_statistic'] = t_statistic\n",
    "output['p_value'] = p_value\n",
    "output['alpha'] = alpha\n",
    "output['result'] = 'Reject the Hypothesis' if p_value < alpha else 'Fail to Reject the Hypothesis'\n",
    "output = pd.DataFrame(output, index=[0])\n",
    "output"
   ]
  },
  {
   "cell_type": "code",
   "execution_count": 8,
   "metadata": {},
   "outputs": [
    {
     "data": {
      "image/png": "[encoded data removed]",
      "text/plain": [
       "<Figure size 640x480 with 1 Axes>"
      ]
     },
     "metadata": {},
     "output_type": "display_data"
    }
   ],
   "source": [
    "plt.hist([w_dis['Quantity'], wo_dis['Quantity']], edgecolor='black', label=['With Discount', 'Without Discount'])\n",
    "plt.xlabel('Sales Count')\n",
    "plt.ylabel('Frequency')\n",
    "plt.title('Histogram of Sales Count')\n",
    "plt.legend()\n",
    "plt.savefig('Histogram.png')\n",
    "plt.show()"
   ]
  },
  {
   "cell_type": "code",
   "execution_count": 9,
   "metadata": {},
   "outputs": [
    {
     "name": "stdout",
     "output_type": "stream",
     "text": [
      "F-Statistic: 26.295425880281698\n",
      "P-Value: 1.677405040885998e-126\n",
      "Reject the null hypothesis.\n"
     ]
    }
   ],
   "source": [
    "groups = [df[df['Discount'] == discount]['Quantity'] for discount in df['Discount'].unique()]\n",
    "\n",
    "f_statistic, p_value = stats.f_oneway(*groups)\n",
    "\n",
    "print(\"F-Statistic:\", f_statistic)\n",
    "print(\"P-Value:\", p_value)\n",
    "alpha = 0.05\n",
    "\n",
    "if p_value < alpha:\n",
    "    print(\"Reject the null hypothesis.\")\n",
    "else:\n",
    "    print(\"Fail to reject the null hypothesis.\")"
   ]
  },
  {
   "cell_type": "code",
   "execution_count": 10,
   "metadata": {},
   "outputs": [
    {
     "data": {
      "image/png": "[encoded data removed]",
      "text/plain": [
       "<Figure size 640x480 with 1 Axes>"
      ]
     },
     "metadata": {},
     "output_type": "display_data"
    },
    {
     "name": "stdout",
     "output_type": "stream",
     "text": [
      "Correlation Coefficient: -0.08596851624989942\n"
     ]
    }
   ],
   "source": [
    "plt.scatter(df['Discount'], df['Sales'])\n",
    "plt.xlabel('Discount')\n",
    "plt.ylabel('Sales')\n",
    "plt.title('Effect of Discount on Sales')\n",
    "plt.show()\n",
    "\n",
    "correlation = df['Discount'].corr(df['Sales'])\n",
    "print(\"Correlation Coefficient:\", correlation)"
   ]
  },
  {
   "cell_type": "code",
   "execution_count": null,
   "metadata": {},
   "outputs": [],
   "source": []
  }
 ],
 "metadata": {
  "kernelspec": {
   "display_name": "quera",
   "language": "python",
   "name": "python3"
  },
  "language_info": {
   "codemirror_mode": {
    "name": "ipython",
    "version": 3
   },
   "file_extension": ".py",
   "mimetype": "text/x-python",
   "name": "python",
   "nbconvert_exporter": "python",
   "pygments_lexer": "ipython3",
   "version": "3.9.16"
  },
  "orig_nbformat": 4
 },
 "nbformat": 4,
 "nbformat_minor": 2
}
